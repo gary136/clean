{
 "cells": [
  {
   "cell_type": "code",
   "execution_count": 1,
   "metadata": {},
   "outputs": [],
   "source": [
    "import os\n",
    "import pandas as pd\n",
    "os.chdir('C:\\Python\\Python36-32\\examples\\projectData')"
   ]
  },
  {
   "cell_type": "code",
   "execution_count": 19,
   "metadata": {},
   "outputs": [],
   "source": [
    "df = pd.read_csv('restaurant.csv')"
   ]
  },
  {
   "cell_type": "code",
   "execution_count": 31,
   "metadata": {},
   "outputs": [
    {
     "data": {
      "text/html": [
       "<div>\n",
       "<style scoped>\n",
       "    .dataframe tbody tr th:only-of-type {\n",
       "        vertical-align: middle;\n",
       "    }\n",
       "\n",
       "    .dataframe tbody tr th {\n",
       "        vertical-align: top;\n",
       "    }\n",
       "\n",
       "    .dataframe thead th {\n",
       "        text-align: right;\n",
       "    }\n",
       "</style>\n",
       "<table border=\"1\" class=\"dataframe\">\n",
       "  <thead>\n",
       "    <tr style=\"text-align: right;\">\n",
       "      <th></th>\n",
       "      <th>name</th>\n",
       "      <th>district</th>\n",
       "      <th>address</th>\n",
       "      <th>lat</th>\n",
       "      <th>lon</th>\n",
       "      <th>status</th>\n",
       "      <th>type_one</th>\n",
       "      <th>type_two</th>\n",
       "      <th>price</th>\n",
       "    </tr>\n",
       "  </thead>\n",
       "  <tbody>\n",
       "    <tr>\n",
       "      <th>2</th>\n",
       "      <td>福珍真味涮涮鍋</td>\n",
       "      <td>信義區</td>\n",
       "      <td>忠孝東路五段505號</td>\n",
       "      <td>25.041532</td>\n",
       "      <td>121.578637</td>\n",
       "      <td>營業中</td>\n",
       "      <td>鍋類</td>\n",
       "      <td>涮涮鍋</td>\n",
       "      <td>NaN</td>\n",
       "    </tr>\n",
       "    <tr>\n",
       "      <th>3</th>\n",
       "      <td>武藏 大眾食堂(伊通店)</td>\n",
       "      <td>中山區</td>\n",
       "      <td>伊通街52巷6號</td>\n",
       "      <td>25.051292</td>\n",
       "      <td>121.534340</td>\n",
       "      <td>營業中</td>\n",
       "      <td>日式料理</td>\n",
       "      <td>綜合日式料理</td>\n",
       "      <td>160.0</td>\n",
       "    </tr>\n",
       "    <tr>\n",
       "      <th>5</th>\n",
       "      <td>陽光派對手工果醬</td>\n",
       "      <td>大安區</td>\n",
       "      <td>延吉街159號</td>\n",
       "      <td>25.039276</td>\n",
       "      <td>121.555187</td>\n",
       "      <td>營業中</td>\n",
       "      <td>烘焙、甜點、零食</td>\n",
       "      <td>休閒零食</td>\n",
       "      <td>NaN</td>\n",
       "    </tr>\n",
       "    <tr>\n",
       "      <th>6</th>\n",
       "      <td>義式屋古拉爵 Café Grazie(南港中信店)</td>\n",
       "      <td>南港區</td>\n",
       "      <td>經貿二路166號A棟2樓</td>\n",
       "      <td>25.059803</td>\n",
       "      <td>121.615885</td>\n",
       "      <td>營業中</td>\n",
       "      <td>異國料理</td>\n",
       "      <td>義式料理</td>\n",
       "      <td>240.0</td>\n",
       "    </tr>\n",
       "    <tr>\n",
       "      <th>7</th>\n",
       "      <td>899迷你涮涮鍋</td>\n",
       "      <td>南港區</td>\n",
       "      <td>玉成街136號</td>\n",
       "      <td>25.044995</td>\n",
       "      <td>121.583136</td>\n",
       "      <td>營業中</td>\n",
       "      <td>鍋類</td>\n",
       "      <td>涮涮鍋</td>\n",
       "      <td>NaN</td>\n",
       "    </tr>\n",
       "  </tbody>\n",
       "</table>\n",
       "</div>"
      ],
      "text/plain": [
       "                        name district       address        lat         lon  \\\n",
       "2                    福珍真味涮涮鍋      信義區    忠孝東路五段505號  25.041532  121.578637   \n",
       "3               武藏 大眾食堂(伊通店)      中山區      伊通街52巷6號  25.051292  121.534340   \n",
       "5                   陽光派對手工果醬      大安區       延吉街159號  25.039276  121.555187   \n",
       "6  義式屋古拉爵 Café Grazie(南港中信店)      南港區  經貿二路166號A棟2樓  25.059803  121.615885   \n",
       "7                   899迷你涮涮鍋      南港區       玉成街136號  25.044995  121.583136   \n",
       "\n",
       "  status  type_one type_two  price  \n",
       "2    營業中        鍋類      涮涮鍋    NaN  \n",
       "3    營業中      日式料理   綜合日式料理  160.0  \n",
       "5    營業中  烘焙、甜點、零食     休閒零食    NaN  \n",
       "6    營業中      異國料理     義式料理  240.0  \n",
       "7    營業中        鍋類      涮涮鍋    NaN  "
      ]
     },
     "execution_count": 31,
     "metadata": {},
     "output_type": "execute_result"
    }
   ],
   "source": [
    "df.head()"
   ]
  },
  {
   "cell_type": "code",
   "execution_count": 26,
   "metadata": {},
   "outputs": [
    {
     "name": "stdout",
     "output_type": "stream",
     "text": [
      "['name', 'status', 'address', 'type_one', 'type_two', 'price', 'lat', 'lon', 'district']\n"
     ]
    }
   ],
   "source": [
    "print(list(df.columns))"
   ]
  },
  {
   "cell_type": "code",
   "execution_count": 21,
   "metadata": {},
   "outputs": [],
   "source": [
    "df.columns = ['name', 'status', 'address', 'type_one', 'type_two', 'price', 'lat', 'lon']"
   ]
  },
  {
   "cell_type": "code",
   "execution_count": 22,
   "metadata": {},
   "outputs": [],
   "source": [
    "df['address'] = df['address'].apply(lambda x:x[3:])"
   ]
  },
  {
   "cell_type": "code",
   "execution_count": 23,
   "metadata": {},
   "outputs": [],
   "source": [
    "df['district'] = df['address'].apply(lambda x:x[:3])"
   ]
  },
  {
   "cell_type": "code",
   "execution_count": 24,
   "metadata": {},
   "outputs": [],
   "source": [
    "df['address'] = df['address'].apply(lambda x:x[3:])"
   ]
  },
  {
   "cell_type": "code",
   "execution_count": 27,
   "metadata": {},
   "outputs": [],
   "source": [
    "df = df[['name', 'district', 'address', 'lat', 'lon', 'status', 'type_one', 'type_two', 'price']]"
   ]
  },
  {
   "cell_type": "code",
   "execution_count": 29,
   "metadata": {},
   "outputs": [],
   "source": [
    "df.to_csv('restaurant_full.csv', index=False)"
   ]
  },
  {
   "cell_type": "code",
   "execution_count": 30,
   "metadata": {},
   "outputs": [],
   "source": [
    "df = df[~df['status'].str.contains('已歇業')]"
   ]
  },
  {
   "cell_type": "code",
   "execution_count": 32,
   "metadata": {},
   "outputs": [],
   "source": [
    "df.to_csv('restaurant_open.csv', index=False)"
   ]
  },
  {
   "cell_type": "code",
   "execution_count": 33,
   "metadata": {},
   "outputs": [
    {
     "name": "stdout",
     "output_type": "stream",
     "text": [
      "['name', 'district', 'address', 'lat', 'lon', 'status', 'type_one', 'type_two', 'price']\n"
     ]
    }
   ],
   "source": [
    "print(list(df.columns))"
   ]
  },
  {
   "cell_type": "code",
   "execution_count": 9,
   "metadata": {},
   "outputs": [],
   "source": [
    "data = []\n",
    "for root, dirs, files in os.walk(\".\", topdown=False):\n",
    "    for name in files:\n",
    "#         print(os.path.join(root, name))\n",
    "#         fullname = os.path.join(root, name)\n",
    "#         data.append(fullname)\n",
    "        data.append(name)"
   ]
  },
  {
   "cell_type": "code",
   "execution_count": 12,
   "metadata": {},
   "outputs": [
    {
     "data": {
      "text/plain": [
       "['hou_100_done.csv',\n",
       " 'hou_103_done.csv',\n",
       " 'hou_104_done.csv',\n",
       " 'hou_105_done.csv',\n",
       " 'hou_106_done.csv',\n",
       " 'hou_108_done.csv',\n",
       " 'hou_110_done.csv',\n",
       " 'hou_111_done.csv',\n",
       " 'hou_112_done.csv',\n",
       " 'hou_114_done.csv',\n",
       " 'hou_115_done.csv',\n",
       " 'hou_116_done.csv']"
      ]
     },
     "execution_count": 12,
     "metadata": {},
     "output_type": "execute_result"
    }
   ],
   "source": [
    "data"
   ]
  },
  {
   "cell_type": "code",
   "execution_count": 14,
   "metadata": {},
   "outputs": [],
   "source": [
    "def timeTransform(time):\n",
    "    time_cut = time.replace('年', '-').replace('月', '')\n",
    "    return time_cut\n",
    "df.Time = df.Time.apply(timeTransform)"
   ]
  },
  {
   "cell_type": "code",
   "execution_count": 18,
   "metadata": {},
   "outputs": [],
   "source": [
    "df.Time = df.Time.apply(lambda x:x.replace('年', '-').replace('月', ''))"
   ]
  },
  {
   "cell_type": "code",
   "execution_count": 19,
   "metadata": {},
   "outputs": [
    {
     "data": {
      "text/html": [
       "<div>\n",
       "<style scoped>\n",
       "    .dataframe tbody tr th:only-of-type {\n",
       "        vertical-align: middle;\n",
       "    }\n",
       "\n",
       "    .dataframe tbody tr th {\n",
       "        vertical-align: top;\n",
       "    }\n",
       "\n",
       "    .dataframe thead th {\n",
       "        text-align: right;\n",
       "    }\n",
       "</style>\n",
       "<table border=\"1\" class=\"dataframe\">\n",
       "  <thead>\n",
       "    <tr style=\"text-align: right;\">\n",
       "      <th></th>\n",
       "      <th>Time</th>\n",
       "      <th>Address</th>\n",
       "      <th>Type</th>\n",
       "      <th>unit_price</th>\n",
       "      <th>house_area</th>\n",
       "      <th>land_area</th>\n",
       "      <th>house_age</th>\n",
       "      <th>special</th>\n",
       "      <th>car_place</th>\n",
       "      <th>neighbor</th>\n",
       "      <th>mrt</th>\n",
       "      <th>floor</th>\n",
       "      <th>floor_sum</th>\n",
       "      <th>lan</th>\n",
       "      <th>long</th>\n",
       "      <th>vil</th>\n",
       "      <th>geo</th>\n",
       "    </tr>\n",
       "  </thead>\n",
       "  <tbody>\n",
       "    <tr>\n",
       "      <th>0</th>\n",
       "      <td>107-03</td>\n",
       "      <td>台北市中正區仁愛路一段31號</td>\n",
       "      <td>電梯大樓</td>\n",
       "      <td>758000</td>\n",
       "      <td>57.88</td>\n",
       "      <td>7.79</td>\n",
       "      <td>19.5</td>\n",
       "      <td>None</td>\n",
       "      <td>含車位</td>\n",
       "      <td>無社區</td>\n",
       "      <td>近捷運</td>\n",
       "      <td>2.0</td>\n",
       "      <td>16.0</td>\n",
       "      <td>25.038824</td>\n",
       "      <td>121.523301</td>\n",
       "      <td>東門里</td>\n",
       "      <td>250312152.0</td>\n",
       "    </tr>\n",
       "    <tr>\n",
       "      <th>1</th>\n",
       "      <td>107-03</td>\n",
       "      <td>台北市中正區寧波東街9巷1號</td>\n",
       "      <td>華廈</td>\n",
       "      <td>925000</td>\n",
       "      <td>12.43</td>\n",
       "      <td>2.16</td>\n",
       "      <td>28.2</td>\n",
       "      <td>None</td>\n",
       "      <td>無車位</td>\n",
       "      <td>無社區</td>\n",
       "      <td>近捷運</td>\n",
       "      <td>4.0</td>\n",
       "      <td>7.0</td>\n",
       "      <td>25.032753</td>\n",
       "      <td>121.520002</td>\n",
       "      <td>新營里</td>\n",
       "      <td>250312152.0</td>\n",
       "    </tr>\n",
       "    <tr>\n",
       "      <th>2</th>\n",
       "      <td>107-03</td>\n",
       "      <td>台北市中正區臨沂街29巷1號</td>\n",
       "      <td>華廈</td>\n",
       "      <td>913000</td>\n",
       "      <td>41.58</td>\n",
       "      <td>9.34</td>\n",
       "      <td>25.2</td>\n",
       "      <td>None</td>\n",
       "      <td>含車位</td>\n",
       "      <td>有社區</td>\n",
       "      <td>近捷運</td>\n",
       "      <td>4.0</td>\n",
       "      <td>6.0</td>\n",
       "      <td>25.040229</td>\n",
       "      <td>121.530047</td>\n",
       "      <td>幸市里</td>\n",
       "      <td>250412153.0</td>\n",
       "    </tr>\n",
       "    <tr>\n",
       "      <th>3</th>\n",
       "      <td>107-03</td>\n",
       "      <td>台北市中正區新生南路一段140巷10弄1號</td>\n",
       "      <td>無電梯公寓</td>\n",
       "      <td>481000</td>\n",
       "      <td>18.30</td>\n",
       "      <td>6.13</td>\n",
       "      <td>51.1</td>\n",
       "      <td>None</td>\n",
       "      <td>無車位</td>\n",
       "      <td>無社區</td>\n",
       "      <td>近捷運</td>\n",
       "      <td>2.0</td>\n",
       "      <td>4.0</td>\n",
       "      <td>25.035993</td>\n",
       "      <td>121.531976</td>\n",
       "      <td>三愛里</td>\n",
       "      <td>250312153.0</td>\n",
       "    </tr>\n",
       "    <tr>\n",
       "      <th>4</th>\n",
       "      <td>107-03</td>\n",
       "      <td>台北市中正區臨沂街29巷1號</td>\n",
       "      <td>華廈</td>\n",
       "      <td>856000</td>\n",
       "      <td>50.50</td>\n",
       "      <td>11.73</td>\n",
       "      <td>25.2</td>\n",
       "      <td>None</td>\n",
       "      <td>含車位</td>\n",
       "      <td>有社區</td>\n",
       "      <td>近捷運</td>\n",
       "      <td>5.0</td>\n",
       "      <td>6.0</td>\n",
       "      <td>25.040229</td>\n",
       "      <td>121.530047</td>\n",
       "      <td>幸市里</td>\n",
       "      <td>250412153.0</td>\n",
       "    </tr>\n",
       "  </tbody>\n",
       "</table>\n",
       "</div>"
      ],
      "text/plain": [
       "     Time                Address   Type  unit_price  house_area  land_area  \\\n",
       "0  107-03         台北市中正區仁愛路一段31號   電梯大樓      758000       57.88       7.79   \n",
       "1  107-03         台北市中正區寧波東街9巷1號     華廈      925000       12.43       2.16   \n",
       "2  107-03         台北市中正區臨沂街29巷1號     華廈      913000       41.58       9.34   \n",
       "3  107-03  台北市中正區新生南路一段140巷10弄1號  無電梯公寓      481000       18.30       6.13   \n",
       "4  107-03         台北市中正區臨沂街29巷1號     華廈      856000       50.50      11.73   \n",
       "\n",
       "   house_age special car_place neighbor  mrt  floor  floor_sum        lan  \\\n",
       "0       19.5    None       含車位      無社區  近捷運    2.0       16.0  25.038824   \n",
       "1       28.2    None       無車位      無社區  近捷運    4.0        7.0  25.032753   \n",
       "2       25.2    None       含車位      有社區  近捷運    4.0        6.0  25.040229   \n",
       "3       51.1    None       無車位      無社區  近捷運    2.0        4.0  25.035993   \n",
       "4       25.2    None       含車位      有社區  近捷運    5.0        6.0  25.040229   \n",
       "\n",
       "         long  vil          geo  \n",
       "0  121.523301  東門里  250312152.0  \n",
       "1  121.520002  新營里  250312152.0  \n",
       "2  121.530047  幸市里  250412153.0  \n",
       "3  121.531976  三愛里  250312153.0  \n",
       "4  121.530047  幸市里  250412153.0  "
      ]
     },
     "execution_count": 19,
     "metadata": {},
     "output_type": "execute_result"
    }
   ],
   "source": [
    "df.head()"
   ]
  },
  {
   "cell_type": "code",
   "execution_count": 20,
   "metadata": {},
   "outputs": [
    {
     "name": "stdout",
     "output_type": "stream",
     "text": [
      "目前轉換檔案: hou_100_done.csv\n",
      "目前轉換檔案: hou_103_done.csv\n",
      "目前轉換檔案: hou_104_done.csv\n",
      "目前轉換檔案: hou_105_done.csv\n",
      "目前轉換檔案: hou_106_done.csv\n",
      "目前轉換檔案: hou_108_done.csv\n",
      "目前轉換檔案: hou_110_done.csv\n",
      "目前轉換檔案: hou_111_done.csv\n",
      "目前轉換檔案: hou_112_done.csv\n",
      "目前轉換檔案: hou_114_done.csv\n",
      "目前轉換檔案: hou_115_done.csv\n",
      "目前轉換檔案: hou_116_done.csv\n"
     ]
    }
   ],
   "source": [
    "for name in data:\n",
    "    df = pd.read_csv(name)\n",
    "    print(\"目前轉換檔案: \" + name)\n",
    "    df.Time = df.Time.apply(lambda x:x.replace('年', '-').replace('月', ''))\n",
    "    df.columns = ['Time', 'Address', 'Type', 'unit_price', 'house_area', 'land_area', 'house_age', 'special', 'car_place', 'neighbor', 'mrt', 'floor', 'floor_sum', 'lat', 'long', 'vil', 'geo']\n",
    "    df.to_csv(name, index=False)"
   ]
  },
  {
   "cell_type": "code",
   "execution_count": 21,
   "metadata": {},
   "outputs": [
    {
     "name": "stdout",
     "output_type": "stream",
     "text": [
      "     Time                Address   Type  unit_price  house_area  land_area  \\\n",
      "0  107-03         台北市中正區仁愛路一段31號   電梯大樓      758000       57.88       7.79   \n",
      "1  107-03         台北市中正區寧波東街9巷1號     華廈      925000       12.43       2.16   \n",
      "2  107-03         台北市中正區臨沂街29巷1號     華廈      913000       41.58       9.34   \n",
      "3  107-03  台北市中正區新生南路一段140巷10弄1號  無電梯公寓      481000       18.30       6.13   \n",
      "4  107-03         台北市中正區臨沂街29巷1號     華廈      856000       50.50      11.73   \n",
      "\n",
      "   house_age special car_place neighbor  mrt  floor  floor_sum        lat  \\\n",
      "0       19.5    None       含車位      無社區  近捷運    2.0       16.0  25.038824   \n",
      "1       28.2    None       無車位      無社區  近捷運    4.0        7.0  25.032753   \n",
      "2       25.2    None       含車位      有社區  近捷運    4.0        6.0  25.040229   \n",
      "3       51.1    None       無車位      無社區  近捷運    2.0        4.0  25.035993   \n",
      "4       25.2    None       含車位      有社區  近捷運    5.0        6.0  25.040229   \n",
      "\n",
      "         long  vil          geo  \n",
      "0  121.523301  東門里  250312152.0  \n",
      "1  121.520003  新營里  250312152.0  \n",
      "2  121.530047  幸市里  250412153.0  \n",
      "3  121.531976  三愛里  250312153.0  \n",
      "4  121.530047  幸市里  250412153.0  \n",
      "     Time             Address    Type  unit_price  house_area  land_area  \\\n",
      "0  107-03      台北市大同區延平北路二段1號      華廈      532000       36.68       3.89   \n",
      "1  107-03  台北市大同區重慶北路三段205巷1號      華廈      515000       12.24       3.05   \n",
      "2  107-03    台北市大同區南京西路239巷1號  店面(店鋪)      411000       59.61      10.80   \n",
      "3  107-03  台北市大同區延平北路二段272巷1號   無電梯公寓      559000       26.38       7.86   \n",
      "4  107-03      台北市大同區民權西路271號    電梯大樓      614000       25.65       2.51   \n",
      "\n",
      "   house_age special car_place neighbor   mrt  floor  floor_sum        lat  \\\n",
      "0       28.2    None       無車位      無社區  不近捷運    8.0       10.0  25.054162   \n",
      "1        9.3    None       無車位      無社區  不近捷運    3.0        7.0  25.070011   \n",
      "2       40.4    None       無車位      無社區   近捷運    1.0        6.0  25.053696   \n",
      "3       24.4    None       無車位      無社區   近捷運    1.0        5.0  25.062168   \n",
      "4        0.9    None       無車位      無社區   近捷運    6.0       13.0  25.063397   \n",
      "\n",
      "         long  vil          geo  \n",
      "0  121.511869  朝陽里  250512151.0  \n",
      "1  121.514270  至聖里  250712151.0  \n",
      "2  121.509957  永樂里  250512150.0  \n",
      "3  121.511093  南芳里  250612151.0  \n",
      "4  121.509825  景星里  250612150.0  \n",
      "     Time              Address  Type  unit_price  house_area  land_area  \\\n",
      "0  107-03        台北市中山區明水路421號  電梯大樓      874000       52.91       7.66   \n",
      "1  107-03    台北市中山區南京東路二段24巷1號    華廈      873000       12.80       1.94   \n",
      "2  107-03        台北市中山區長春路181號  電梯大樓      588000       36.80       5.49   \n",
      "3  107-03      台北市中山區新生北路一段91號  電梯大樓      503000       11.48       1.35   \n",
      "4  107-03  台北市中山區樂群二路116巷61弄1號    華廈     1070000      132.08      34.45   \n",
      "\n",
      "   house_age special car_place neighbor   mrt  floor  floor_sum        lat  \\\n",
      "0       23.3    None       含車位      有社區   近捷運   10.0       14.0  25.077493   \n",
      "1       13.2    None       無車位      無社區   近捷運    6.0        8.0  25.051616   \n",
      "2       34.7    None       無車位      無社區   近捷運    8.0       12.0  25.054863   \n",
      "3       29.2    None       無車位      有社區   近捷運    5.0       12.0  25.046331   \n",
      "4        7.9    None       含車位      有社區  不近捷運    3.0        7.0  25.079742   \n",
      "\n",
      "         long  vil          geo  \n",
      "0  121.549053  永安里  250712154.0  \n",
      "1  121.528860  興亞里  250512152.0  \n",
      "2  121.537651  朱馥里  250512153.0  \n",
      "3  121.532398  興亞里  250412153.0  \n",
      "4  121.559429  金泰里  250712155.0  \n",
      "     Time              Address   Type  unit_price  house_area  land_area  \\\n",
      "0  107-03  台北市松山區八德路四段106巷4弄1號  無電梯公寓      562000       35.92      10.22   \n",
      "1  107-03    台北市松山區光復北路230巷31號   電梯大樓      671000       36.74       8.12   \n",
      "2  107-03         台北市松山區新中街31號  無電梯公寓      551000       39.29      11.92   \n",
      "3  107-03     台北市松山區市民大道五段151號     華廈      656000       16.46       2.39   \n",
      "4  107-03       台北市松山區三民路80巷1號     華廈      647000       28.12       6.53   \n",
      "\n",
      "   house_age special car_place neighbor   mrt  floor  floor_sum        lat  \\\n",
      "0       39.1    None       無車位      無社區   近捷運    4.0        5.0  25.047532   \n",
      "1       16.9    None       無車位      有社區   近捷運   11.0       13.0  25.055945   \n",
      "2       39.7    None       無車位      無社區  不近捷運    5.0        5.0  25.059192   \n",
      "3       22.7    None       無車位      無社區   近捷運    3.0        5.0  25.047821   \n",
      "4       25.7    None       無車位      有社區  不近捷運    5.0        7.0  25.056578   \n",
      "\n",
      "         long  vil          geo  \n",
      "0  121.560991  復盛里  250412156.0  \n",
      "1  121.554227  龍田里  250512155.0  \n",
      "2  121.560386  東榮里  250512156.0  \n",
      "3  121.564242  復盛里  250412156.0  \n",
      "4  121.565156  自強里  250512156.0  \n",
      "     Time               Address    Type  unit_price  house_area  land_area  \\\n",
      "0  107-03   台北市大安區和平東路一段50巷1弄1號      套房      892000       12.05       2.54   \n",
      "1  107-03       台北市大安區羅斯福路三段91號    電梯大樓      719000       38.96       3.17   \n",
      "2  107-03        台北市大安區安和路一段91號    電梯大樓      896000       52.03       6.61   \n",
      "3  107-03  台北市大安區安和路一段127巷29弄1號  店面(店鋪)     1346000       43.83       7.50   \n",
      "4  107-03         台北市大安區永康街7巷1號   無電梯公寓      795000       37.34      13.54   \n",
      "\n",
      "   house_age             special car_place neighbor  mrt  floor  floor_sum  \\\n",
      "0        9.9  addedEstablishment       無車位      有社區  近捷運    4.0        7.0   \n",
      "1       26.9                None       無車位      有社區  近捷運    7.0       12.0   \n",
      "2       40.9                None       無車位      有社區  近捷運    7.0       12.0   \n",
      "3       37.6                None       無車位      有社區  近捷運    1.0        7.0   \n",
      "4       51.8                None       無車位      無社區  近捷運    2.0        4.0   \n",
      "\n",
      "         lat        long  vil          geo  \n",
      "0  25.026626  121.523987  古莊里  250212152.0  \n",
      "1  25.022693  121.526267  古莊里  250212152.0  \n",
      "2  25.036164  121.552736  敦煌里  250312155.0  \n",
      "3  25.035262  121.553930  敦煌里  250312155.0  \n",
      "4  25.033078  121.531315  福住里  250312153.0  \n",
      "     Time           Address   Type  unit_price  house_area  land_area  \\\n",
      "0  107-03      台北市萬華區東園街61號  無電梯公寓      330000       46.66      11.62   \n",
      "1  107-03     台北市萬華區莒光路211號     華廈      498000       32.93       6.55   \n",
      "2  107-03     台北市萬華區桂林路121號   電梯大樓      557000       53.30       4.22   \n",
      "3  107-03    台北市萬華區長沙街二段61號   電梯大樓      541000       23.09       2.01   \n",
      "4  107-03  台北市萬華區萬大路423巷31號   電梯大樓      445000       57.26      12.26   \n",
      "\n",
      "   house_age special car_place neighbor   mrt  floor  floor_sum        lat  \\\n",
      "0       38.6    None       無車位      無社區  不近捷運    4.0        5.0  25.026953   \n",
      "1       31.3    None       無車位      無社區   近捷運    4.0        7.0  25.031043   \n",
      "2        8.0    None       含車位      無社區   近捷運   18.0       19.0  25.038574   \n",
      "3       12.0    None       無車位      無社區   近捷運    6.0       14.0  25.040683   \n",
      "4       10.1    None       含車位      有社區  不近捷運   12.0       14.0  25.021275   \n",
      "\n",
      "         long  vil          geo  \n",
      "0  121.496092  日善里  250212149.0  \n",
      "1  121.501524  頂碩里  250312150.0  \n",
      "2  121.500332  富民里  250312150.0  \n",
      "3  121.505461  新起里  250412150.0  \n",
      "4  121.500115  壽德里  250212150.0  \n",
      "     Time             Address    Type  unit_price  house_area  land_area  \\\n",
      "0  107-03       台北市信義區松山路121號   無電梯公寓      564000       32.81       9.45   \n",
      "1  107-03   台北市信義區基隆路一段380巷1號    電梯大樓      681000       26.43       5.29   \n",
      "2  107-03  台北市信義區永吉路180巷67弄1號   無電梯公寓      611000       30.75      14.37   \n",
      "3  107-03    台北市信義區忠孝東路五段241號    電梯大樓     1152000       15.29       1.96   \n",
      "4  107-03    台北市信義區忠孝東路五段421號  店面(店鋪)      761000       39.42       8.26   \n",
      "\n",
      "   house_age special car_place neighbor   mrt  floor  floor_sum        lat  \\\n",
      "0       40.0    None       無車位      無社區   近捷運    4.0        4.0  25.047384   \n",
      "1       34.4    None       無車位      有社區  不近捷運    7.0       12.0  25.034502   \n",
      "2       47.6    None       無車位      無社區   近捷運    4.0        4.0  25.043597   \n",
      "3       13.4    None       含車位      無社區   近捷運    5.0       11.0  25.042405   \n",
      "4       35.7    None       無車位      有社區   近捷運    2.0        7.0  25.040923   \n",
      "\n",
      "         long  vil          geo  \n",
      "0  121.578035  永吉里  250412157.0  \n",
      "1  121.559960  西村里  250312155.0  \n",
      "2  121.571353  六藝里  250412157.0  \n",
      "3  121.570014  敦厚里  250412157.0  \n",
      "4  121.575413  富台里  250412157.0  \n",
      "     Time             Address   Type  unit_price  house_area  land_area  \\\n",
      "0  107-03     台北市士林區社子街22巷31號     華廈      423000       44.87      11.02   \n",
      "1  107-03     台北市士林區福華路147巷1號  無電梯公寓      607000       24.70       7.71   \n",
      "2  107-03  台北市士林區士東路266巷12弄1號  無電梯公寓      454000       32.51       8.26   \n",
      "3  107-03     台北市士林區格致路20巷31號     華廈      437000       11.39       4.57   \n",
      "4  107-03   台北市士林區士東路91巷26弄1號     華廈      592000       29.75       4.93   \n",
      "\n",
      "   house_age special car_place neighbor   mrt  floor  floor_sum        lat  \\\n",
      "0        9.9    None       含車位      有社區  不近捷運    3.0        7.0  25.086837   \n",
      "1       45.6    None       無車位      無社區   近捷運    4.0        4.0  25.103147   \n",
      "2       36.5    None       無車位      無社區  不近捷運    4.0        5.0  25.111811   \n",
      "3       21.3    None       無車位      無社區  不近捷運    4.0       10.0  25.137213   \n",
      "4        8.9    None       含車位      有社區  不近捷運    2.0        7.0  25.112509   \n",
      "\n",
      "         long  vil          geo  \n",
      "0  121.506814  社新里  250812150.0  \n",
      "1  121.522052  德華里  251012152.0  \n",
      "2  121.536573  芝山里  251112153.0  \n",
      "3  121.547253  陽明里  251312154.0  \n",
      "4  121.528996  天祿里  251112152.0  \n",
      "     Time              Address   Type  unit_price  house_area  land_area  \\\n",
      "0  107-03    台北市北投區三合街一段國美大奇B館     華廈      615000       40.69       0.00   \n",
      "1  107-03      台北市北投區明德路267巷1號   電梯大樓      592000       26.20       7.20   \n",
      "2  107-03       台北市北投區東華街二段61號     華廈      599000       25.05       5.67   \n",
      "3  107-03      台北市北投區大度路三段271號   電梯大樓      418000       25.81       2.64   \n",
      "4  107-03  台北市北投區裕民六路114巷17弄1號  無電梯公寓      441000       25.38       6.81   \n",
      "\n",
      "   house_age special car_place neighbor   mrt  floor  floor_sum        lat  \\\n",
      "0        0.0    None       含車位      無社區  不近捷運    6.0        9.0  25.127000   \n",
      "1        4.9    None       無車位      無社區   近捷運    2.0       11.0  25.114379   \n",
      "2        9.0    None       無車位      無社區   近捷運    4.0        7.0  25.121957   \n",
      "3        9.4    None       無車位      有社區   近捷運    5.0       14.0  25.123044   \n",
      "4       40.2    None       無車位      無社區   近捷運    5.0        5.0  25.114698   \n",
      "\n",
      "         long  vil          geo  \n",
      "0  121.505596  奇岩里  251212150.0  \n",
      "1  121.522158  榮華里  251112152.0  \n",
      "2  121.505443  東華里  251212150.0  \n",
      "3  121.466733  關渡里  251212146.0  \n",
      "4  121.518083  裕民里  251112151.0  \n",
      "     Time           Address   Type  unit_price  house_area  land_area  \\\n",
      "0  107-03     台北市內湖區星雲街121號   電梯大樓      822000       34.77       4.02   \n",
      "1  107-03     台北市內湖區安康路181號     華廈      472000       33.07       9.60   \n",
      "2  107-03   台北市內湖區麗山街348巷1號  無電梯公寓      611000       26.93       7.09   \n",
      "3  107-03       台北市內湖區文湖街1號     華廈      662000       12.84       2.27   \n",
      "4  107-03  台北市內湖區金湖路347巷61號  多層樓組合      735000       90.96      37.66   \n",
      "\n",
      "   house_age special car_place neighbor   mrt  floor  floor_sum        lat  \\\n",
      "0       13.2    None       含車位      有社區   近捷運    4.0       14.0  25.080080   \n",
      "1       23.8    None       無車位      無社區   近捷運    2.0        7.0  25.065977   \n",
      "2       34.5    None       無車位      無社區   近捷運    3.0        5.0  25.082081   \n",
      "3       11.0    None       含車位      有社區   近捷運    4.0        7.0  25.085154   \n",
      "4       10.8    None       含車位      無社區  不近捷運    1.0        5.0  25.073818   \n",
      "\n",
      "         long  vil          geo  \n",
      "0  121.594949  清白里  250812159.0  \n",
      "1  121.611208  五分里  250612161.0  \n",
      "2  121.573032  麗山里  250812157.0  \n",
      "3  121.559711  西康里  250812155.0  \n",
      "4  121.599278  金湖里  250712159.0  \n",
      "     Time             Address   Type  unit_price  house_area  land_area  \\\n",
      "0  107-02   台北市南港區福德街339巷7弄1號     公寓      396000       22.48       8.62   \n",
      "1  107-02    台北市南港區東新街118巷61號   電梯大樓      622000       39.35       6.36   \n",
      "2  107-02  台北市南港區忠孝東路六段370巷1號  無電梯公寓      784000       27.42       7.22   \n",
      "3  107-02  台北市南港區重陽路125巷36弄1號     華廈      468000       31.75       5.81   \n",
      "4  107-01     台北市南港區成福路194巷1號     華廈      655000       22.60       3.71   \n",
      "\n",
      "   house_age             special car_place neighbor   mrt  floor  floor_sum  \\\n",
      "0       41.1                None       無車位      無社區  不近捷運    3.0        4.0   \n",
      "1        5.8                None       含車位      有社區   近捷運    2.0       11.0   \n",
      "2       37.5                None       無車位      無社區   近捷運    1.0        5.0   \n",
      "3       10.2                None       含車位      無社區  不近捷運    6.0        8.0   \n",
      "4        3.8  addedEstablishment       含車位      有社區  不近捷運    5.0        9.0   \n",
      "\n",
      "         lat        long  vil          geo  \n",
      "0  25.038112  121.589472  百福里  250312158.0  \n",
      "1  25.046010  121.589223  成福里  250412158.0  \n",
      "2  25.049587  121.591824  新光里  250412159.0  \n",
      "3  25.057767  121.597591  重陽里  250512159.0  \n"
     ]
    },
    {
     "name": "stdout",
     "output_type": "stream",
     "text": [
      "4  25.045766  121.586080  成福里  250412158.0  \n",
      "     Time              Address   Type  unit_price  house_area  land_area  \\\n",
      "0  107-03  台北市文山區指南路三段14巷13弄1號     華廈      454000       40.62       7.67   \n",
      "1  107-03     台北市文山區興隆路二段61巷1號   電梯大樓      636000       52.84       8.46   \n",
      "2  107-03        台北市文山區景興路211號  多層樓組合      555000       65.79       5.24   \n",
      "3  107-03         台北市文山區保儀路61號   電梯大樓      623000       88.62       6.72   \n",
      "4  107-03    台北市文山區興隆路二段154巷1號     華廈      464000       33.42       3.84   \n",
      "\n",
      "   house_age special car_place neighbor   mrt  floor  floor_sum        lat  \\\n",
      "0        2.7    None       含車位      無社區  不近捷運    3.0        7.0  24.985111   \n",
      "1        8.7    None       含車位      有社區  不近捷運    7.0       11.0  24.999052   \n",
      "2       22.6    None       含車位      無社區   近捷運   15.0       16.0  24.991625   \n",
      "3        3.7    None       含車位      有社區  不近捷運   22.0       24.0  24.987196   \n",
      "4       39.6    None       無車位      無社區   近捷運    9.0       10.0  25.001020   \n",
      "\n",
      "         long  vil          geo  \n",
      "0  121.580118  指南里  249812158.0  \n",
      "1  121.545540  興豐里  249912154.0  \n",
      "2  121.544005  景東里  249912154.0  \n",
      "3  121.568693  木新里  249812156.0  \n",
      "4  121.551631  興業里  250012155.0  \n"
     ]
    }
   ],
   "source": [
    "for name in data:\n",
    "    df = pd.read_csv(name)\n",
    "    print(df.head())"
   ]
  },
  {
   "cell_type": "code",
   "execution_count": 3,
   "metadata": {},
   "outputs": [],
   "source": [
    "a = '{\"aaa\": 134, \"bc\": 12}'"
   ]
  },
  {
   "cell_type": "code",
   "execution_count": 8,
   "metadata": {},
   "outputs": [
    {
     "ename": "JSONDecodeError",
     "evalue": "Expecting property name enclosed in double quotes: line 1 column 2 (char 1)",
     "output_type": "error",
     "traceback": [
      "\u001b[1;31m---------------------------------------------------------------------------\u001b[0m",
      "\u001b[1;31mJSONDecodeError\u001b[0m                           Traceback (most recent call last)",
      "\u001b[1;32m<ipython-input-8-63c7b90e220a>\u001b[0m in \u001b[0;36m<module>\u001b[1;34m()\u001b[0m\n\u001b[0;32m      1\u001b[0m \u001b[1;32mimport\u001b[0m \u001b[0mjson\u001b[0m\u001b[1;33m\u001b[0m\u001b[0m\n\u001b[1;32m----> 2\u001b[1;33m \u001b[0mt\u001b[0m \u001b[1;33m=\u001b[0m \u001b[0mjson\u001b[0m\u001b[1;33m.\u001b[0m\u001b[0mloads\u001b[0m\u001b[1;33m(\u001b[0m\u001b[0ma\u001b[0m\u001b[1;33m)\u001b[0m\u001b[1;33m\u001b[0m\u001b[0m\n\u001b[0m",
      "\u001b[1;32mc:\\python\\python36-32\\lib\\json\\__init__.py\u001b[0m in \u001b[0;36mloads\u001b[1;34m(s, encoding, cls, object_hook, parse_float, parse_int, parse_constant, object_pairs_hook, **kw)\u001b[0m\n\u001b[0;32m    352\u001b[0m             \u001b[0mparse_int\u001b[0m \u001b[1;32mis\u001b[0m \u001b[1;32mNone\u001b[0m \u001b[1;32mand\u001b[0m \u001b[0mparse_float\u001b[0m \u001b[1;32mis\u001b[0m \u001b[1;32mNone\u001b[0m \u001b[1;32mand\u001b[0m\u001b[1;33m\u001b[0m\u001b[0m\n\u001b[0;32m    353\u001b[0m             parse_constant is None and object_pairs_hook is None and not kw):\n\u001b[1;32m--> 354\u001b[1;33m         \u001b[1;32mreturn\u001b[0m \u001b[0m_default_decoder\u001b[0m\u001b[1;33m.\u001b[0m\u001b[0mdecode\u001b[0m\u001b[1;33m(\u001b[0m\u001b[0ms\u001b[0m\u001b[1;33m)\u001b[0m\u001b[1;33m\u001b[0m\u001b[0m\n\u001b[0m\u001b[0;32m    355\u001b[0m     \u001b[1;32mif\u001b[0m \u001b[0mcls\u001b[0m \u001b[1;32mis\u001b[0m \u001b[1;32mNone\u001b[0m\u001b[1;33m:\u001b[0m\u001b[1;33m\u001b[0m\u001b[0m\n\u001b[0;32m    356\u001b[0m         \u001b[0mcls\u001b[0m \u001b[1;33m=\u001b[0m \u001b[0mJSONDecoder\u001b[0m\u001b[1;33m\u001b[0m\u001b[0m\n",
      "\u001b[1;32mc:\\python\\python36-32\\lib\\json\\decoder.py\u001b[0m in \u001b[0;36mdecode\u001b[1;34m(self, s, _w)\u001b[0m\n\u001b[0;32m    337\u001b[0m \u001b[1;33m\u001b[0m\u001b[0m\n\u001b[0;32m    338\u001b[0m         \"\"\"\n\u001b[1;32m--> 339\u001b[1;33m         \u001b[0mobj\u001b[0m\u001b[1;33m,\u001b[0m \u001b[0mend\u001b[0m \u001b[1;33m=\u001b[0m \u001b[0mself\u001b[0m\u001b[1;33m.\u001b[0m\u001b[0mraw_decode\u001b[0m\u001b[1;33m(\u001b[0m\u001b[0ms\u001b[0m\u001b[1;33m,\u001b[0m \u001b[0midx\u001b[0m\u001b[1;33m=\u001b[0m\u001b[0m_w\u001b[0m\u001b[1;33m(\u001b[0m\u001b[0ms\u001b[0m\u001b[1;33m,\u001b[0m \u001b[1;36m0\u001b[0m\u001b[1;33m)\u001b[0m\u001b[1;33m.\u001b[0m\u001b[0mend\u001b[0m\u001b[1;33m(\u001b[0m\u001b[1;33m)\u001b[0m\u001b[1;33m)\u001b[0m\u001b[1;33m\u001b[0m\u001b[0m\n\u001b[0m\u001b[0;32m    340\u001b[0m         \u001b[0mend\u001b[0m \u001b[1;33m=\u001b[0m \u001b[0m_w\u001b[0m\u001b[1;33m(\u001b[0m\u001b[0ms\u001b[0m\u001b[1;33m,\u001b[0m \u001b[0mend\u001b[0m\u001b[1;33m)\u001b[0m\u001b[1;33m.\u001b[0m\u001b[0mend\u001b[0m\u001b[1;33m(\u001b[0m\u001b[1;33m)\u001b[0m\u001b[1;33m\u001b[0m\u001b[0m\n\u001b[0;32m    341\u001b[0m         \u001b[1;32mif\u001b[0m \u001b[0mend\u001b[0m \u001b[1;33m!=\u001b[0m \u001b[0mlen\u001b[0m\u001b[1;33m(\u001b[0m\u001b[0ms\u001b[0m\u001b[1;33m)\u001b[0m\u001b[1;33m:\u001b[0m\u001b[1;33m\u001b[0m\u001b[0m\n",
      "\u001b[1;32mc:\\python\\python36-32\\lib\\json\\decoder.py\u001b[0m in \u001b[0;36mraw_decode\u001b[1;34m(self, s, idx)\u001b[0m\n\u001b[0;32m    353\u001b[0m         \"\"\"\n\u001b[0;32m    354\u001b[0m         \u001b[1;32mtry\u001b[0m\u001b[1;33m:\u001b[0m\u001b[1;33m\u001b[0m\u001b[0m\n\u001b[1;32m--> 355\u001b[1;33m             \u001b[0mobj\u001b[0m\u001b[1;33m,\u001b[0m \u001b[0mend\u001b[0m \u001b[1;33m=\u001b[0m \u001b[0mself\u001b[0m\u001b[1;33m.\u001b[0m\u001b[0mscan_once\u001b[0m\u001b[1;33m(\u001b[0m\u001b[0ms\u001b[0m\u001b[1;33m,\u001b[0m \u001b[0midx\u001b[0m\u001b[1;33m)\u001b[0m\u001b[1;33m\u001b[0m\u001b[0m\n\u001b[0m\u001b[0;32m    356\u001b[0m         \u001b[1;32mexcept\u001b[0m \u001b[0mStopIteration\u001b[0m \u001b[1;32mas\u001b[0m \u001b[0merr\u001b[0m\u001b[1;33m:\u001b[0m\u001b[1;33m\u001b[0m\u001b[0m\n\u001b[0;32m    357\u001b[0m             \u001b[1;32mraise\u001b[0m \u001b[0mJSONDecodeError\u001b[0m\u001b[1;33m(\u001b[0m\u001b[1;34m\"Expecting value\"\u001b[0m\u001b[1;33m,\u001b[0m \u001b[0ms\u001b[0m\u001b[1;33m,\u001b[0m \u001b[0merr\u001b[0m\u001b[1;33m.\u001b[0m\u001b[0mvalue\u001b[0m\u001b[1;33m)\u001b[0m \u001b[1;32mfrom\u001b[0m \u001b[1;32mNone\u001b[0m\u001b[1;33m\u001b[0m\u001b[0m\n",
      "\u001b[1;31mJSONDecodeError\u001b[0m: Expecting property name enclosed in double quotes: line 1 column 2 (char 1)"
     ]
    }
   ],
   "source": [
    "import json\n",
    "t = json.loads(a)"
   ]
  },
  {
   "cell_type": "code",
   "execution_count": 7,
   "metadata": {},
   "outputs": [
    {
     "data": {
      "text/plain": [
       "{'category': 'Gossiping',\n",
       " 'content': 'a story about a cool person',\n",
       " 'datetime': '2018-05-30',\n",
       " 'title': '很酷的故事'}"
      ]
     },
     "execution_count": 7,
     "metadata": {},
     "output_type": "execute_result"
    }
   ],
   "source": [
    "t"
   ]
  },
  {
   "cell_type": "code",
   "execution_count": 9,
   "metadata": {},
   "outputs": [],
   "source": [
    "iii = {\"aaa\": 134, \"bc\": 12}"
   ]
  },
  {
   "cell_type": "code",
   "execution_count": 10,
   "metadata": {},
   "outputs": [
    {
     "data": {
      "text/plain": [
       "dict"
      ]
     },
     "execution_count": 10,
     "metadata": {},
     "output_type": "execute_result"
    }
   ],
   "source": [
    "type(iii)"
   ]
  },
  {
   "cell_type": "code",
   "execution_count": 12,
   "metadata": {},
   "outputs": [],
   "source": [
    "a = json.dumps(iii)"
   ]
  },
  {
   "cell_type": "code",
   "execution_count": 13,
   "metadata": {},
   "outputs": [
    {
     "data": {
      "text/plain": [
       "'{\"aaa\": 134, \"bc\": 12}'"
      ]
     },
     "execution_count": 13,
     "metadata": {},
     "output_type": "execute_result"
    }
   ],
   "source": [
    "a"
   ]
  },
  {
   "cell_type": "code",
   "execution_count": 19,
   "metadata": {},
   "outputs": [
    {
     "data": {
      "text/plain": [
       "{'aaa': 134, 'bc': 12}"
      ]
     },
     "execution_count": 19,
     "metadata": {},
     "output_type": "execute_result"
    }
   ],
   "source": [
    "json.loads('{\"aaa\":134,\"bc\":12}')"
   ]
  },
  {
   "cell_type": "code",
   "execution_count": 17,
   "metadata": {},
   "outputs": [
    {
     "data": {
      "text/plain": [
       "{'aaa': 134, 'bc': 12}"
      ]
     },
     "execution_count": 17,
     "metadata": {},
     "output_type": "execute_result"
    }
   ],
   "source": [
    "t"
   ]
  },
  {
   "cell_type": "code",
   "execution_count": null,
   "metadata": {},
   "outputs": [],
   "source": []
  }
 ],
 "metadata": {
  "kernelspec": {
   "display_name": "Python 3",
   "language": "python",
   "name": "python3"
  },
  "language_info": {
   "codemirror_mode": {
    "name": "ipython",
    "version": 3
   },
   "file_extension": ".py",
   "mimetype": "text/x-python",
   "name": "python",
   "nbconvert_exporter": "python",
   "pygments_lexer": "ipython3",
   "version": "3.6.4"
  }
 },
 "nbformat": 4,
 "nbformat_minor": 2
}
