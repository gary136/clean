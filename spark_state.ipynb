{
 "cells": [
  {
   "cell_type": "code",
   "execution_count": 1,
   "metadata": {},
   "outputs": [],
   "source": [
    "from pyspark.sql import SparkSession\n",
    "spark = SparkSession.builder.appName('map_test').getOrCreate()"
   ]
  },
  {
   "cell_type": "code",
   "execution_count": 2,
   "metadata": {},
   "outputs": [],
   "source": [
    "df = spark.read.csv('/FileStore/tables/convStore_done.csv', inferSchema=True, header=True)"
   ]
  },
  {
   "cell_type": "code",
   "execution_count": 4,
   "metadata": {},
   "outputs": [],
   "source": [
    "from math import cos\n",
    "def state_code_compute(x):    \n",
    "    scale_km = 0.5\n",
    "    lat = x[0]\n",
    "    lon = x[1]\n",
    "    lat_to_km = lat*110.574\n",
    "    lon_to_km = abs(lon*(111.320*cos(lat)))\n",
    "\n",
    "    state_code_x = str(int(lat_to_km/scale_km))\n",
    "    state_code_y = str(int(lon_to_km/scale_km))\n",
    "    if len(state_code_y) == 4:\n",
    "        state_code_y = '0'+state_code_y\n",
    "    state_code = state_code_x+state_code_y\n",
    "    return state_code"
   ]
  },
  {
   "cell_type": "code",
   "execution_count": 5,
   "metadata": {},
   "outputs": [],
   "source": [
    "f = df.select(['lat','lon']).rdd"
   ]
  },
  {
   "cell_type": "code",
   "execution_count": 7,
   "metadata": {},
   "outputs": [],
   "source": [
    "f_t = f.map(state_code_compute)"
   ]
  },
  {
   "cell_type": "code",
   "execution_count": 9,
   "metadata": {},
   "outputs": [],
   "source": [
    "from pyspark.sql import Row\n",
    "f_ret = f_t.map(lambda x: Row(state_code=x))"
   ]
  },
  {
   "cell_type": "code",
   "execution_count": 10,
   "metadata": {},
   "outputs": [],
   "source": [
    "state_code = spark.createDataFrame(f_ret)"
   ]
  },
  {
   "cell_type": "code",
   "execution_count": 11,
   "metadata": {},
   "outputs": [],
   "source": [
    "from pyspark.sql.functions import monotonically_increasing_id\n",
    "df = df.withColumn(\"id\", monotonically_increasing_id())\n",
    "state_code = state_code.withColumn(\"id\", monotonically_increasing_id())\n",
    "t = df.join(state_code, \"id\", \"outer\").drop(\"id\")"
   ]
  },
  {
   "cell_type": "code",
   "execution_count": 13,
   "metadata": {},
   "outputs": [],
   "source": [
    "t.write.csv('mycsv_.csv', header=True)"
   ]
  },
  {
   "cell_type": "code",
   "execution_count": 14,
   "metadata": {},
   "outputs": [],
   "source": [
    "iii = spark.read.csv('mycsv_.csv', inferSchema=True, header=True)"
   ]
  }
 ],
 "metadata": {
  "kernelspec": {
   "display_name": "Python 3",
   "language": "python",
   "name": "python3"
  },
  "language_info": {
   "codemirror_mode": {
    "name": "ipython",
    "version": 3
   },
   "file_extension": ".py",
   "mimetype": "text/x-python",
   "name": "python",
   "nbconvert_exporter": "python",
   "pygments_lexer": "ipython3",
   "version": "3.6.4"
  },
  "name": "map",
  "notebookId": 189075898346122
 },
 "nbformat": 4,
 "nbformat_minor": 1
}
